{
  "cells": [
    {
      "cell_type": "code",
      "execution_count": 1,
      "metadata": {
        "id": "NidOC8S5riYp"
      },
      "outputs": [],
      "source": [
        "import torch\n",
        "import torch.nn as nn\n",
        "import torch.optim as optim\n",
        "import numpy as np\n",
        "import matplotlib.pyplot as plt"
      ]
    },
    {
      "cell_type": "code",
      "execution_count": 2,
      "metadata": {
        "colab": {
          "base_uri": "https://localhost:8080/"
        },
        "id": "TdqY2b8yT15V",
        "outputId": "e422bf5e-1c1b-4a50-8b3d-2775fbca9686"
      },
      "outputs": [
        {
          "output_type": "stream",
          "name": "stdout",
          "text": [
            "Mounted at /content/drive\n"
          ]
        }
      ],
      "source": [
        "from google.colab import drive\n",
        "drive.mount('/content/drive')"
      ]
    },
    {
      "cell_type": "code",
      "execution_count": 3,
      "metadata": {
        "id": "ST4vYFSbUiTf"
      },
      "outputs": [],
      "source": [
        "test_path = '/content/drive/My Drive/circuits/c499.test'"
      ]
    },
    {
      "cell_type": "code",
      "source": [
        "import itertools\n",
        "import random\n",
        "from collections import defaultdict\n",
        "import numpy as np\n",
        "from sklearn.svm import SVC\n",
        "from sklearn.metrics import accuracy_score\n",
        "from sklearn.model_selection import train_test_split\n",
        "import matplotlib.pyplot as plt\n",
        "\n",
        "SEED = 42\n",
        "random.seed(SEED)\n",
        "np.random.seed(SEED)\n",
        "\n",
        "def expand_dont_care_limited(pattern, max_expand=15):\n",
        "    x_indices = [i for i, c in enumerate(pattern) if c == 'x']\n",
        "    if len(x_indices) <= max_expand:\n",
        "        chars = [(c if c in '01' else ['0', '1']) for c in pattern]\n",
        "        chars = [(c if isinstance(c, list) else [c]) for c in chars]\n",
        "        return [''.join(bits) for bits in itertools.product(*chars)]\n",
        "    else:\n",
        "        fixed_pattern = list(pattern)\n",
        "        patterns = []\n",
        "        for bits in itertools.product('01', repeat=max_expand):\n",
        "            temp = fixed_pattern.copy()\n",
        "            for i, bit in zip(x_indices[:max_expand], bits):\n",
        "                temp[i] = bit\n",
        "            for i in x_indices[max_expand:]:\n",
        "                temp[i] = random.choice('01')\n",
        "            patterns.append(''.join(temp))\n",
        "        return patterns\n",
        "\n",
        "def parse_isc_file_limited(filepath, max_expand=3):\n",
        "    combo_to_fault = {}\n",
        "    fault_to_idx = {}\n",
        "    fault_type_map = {}\n",
        "    idx = 0\n",
        "    current_fault = None\n",
        "\n",
        "    with open(filepath, 'r') as file:\n",
        "        for line in file:\n",
        "            line = line.strip()\n",
        "            if not line or line.startswith(\"*\"):\n",
        "                continue\n",
        "            if '/' in line:\n",
        "                parts = line.split(\"/\")\n",
        "                fault = parts[0].strip().replace(\"->\", \"_\") + \"/\" + parts[1].strip()\n",
        "                if fault not in fault_to_idx:\n",
        "                    fault_to_idx[fault] = idx\n",
        "                    if parts[1].strip() == \"0\":\n",
        "                        fault_type_map[idx] = \"stuck-at-0\"\n",
        "                    elif parts[1].strip() == \"1\":\n",
        "                        fault_type_map[idx] = \"stuck-at-1\"\n",
        "                    else:\n",
        "                        fault_type_map[idx] = \"unknown\"\n",
        "                    idx += 1\n",
        "                current_fault = fault\n",
        "            elif ':' in line and current_fault:\n",
        "                parts = line.split(\":\")[1].strip().split()\n",
        "                input_pat = parts[0]\n",
        "                output_pat = parts[1] if len(parts) > 1 else \"\"\n",
        "                for xi in expand_dont_care_limited(input_pat, max_expand):\n",
        "                    for yo in expand_dont_care_limited(output_pat, max_expand):\n",
        "                        combined = xi + yo\n",
        "                        if combined not in combo_to_fault:\n",
        "                            combo_to_fault[combined] = fault_to_idx[current_fault]\n",
        "    return combo_to_fault, fault_to_idx, fault_type_map"
      ],
      "metadata": {
        "id": "xz9Tqpg9AN12"
      },
      "execution_count": 4,
      "outputs": []
    },
    {
      "cell_type": "code",
      "source": [
        "combo_to_fault, fault_to_idx, fault_type_map = parse_isc_file_limited(test_path, max_expand=3)\n",
        "\n",
        "X = []\n",
        "y = []\n",
        "\n",
        "for combo, label in combo_to_fault.items():\n",
        "    X.append([int(bit) for bit in combo])\n",
        "    y.append(label)\n",
        "\n",
        "X = np.array(X)\n",
        "y = np.array(y)\n",
        "\n",
        "X_train, X_val, y_train, y_val = train_test_split(X, y, test_size=0.2, random_state=SEED)"
      ],
      "metadata": {
        "id": "jus1HaEuAO1n"
      },
      "execution_count": 5,
      "outputs": []
    },
    {
      "cell_type": "code",
      "source": [
        "svm_model = SVC(kernel='linear', C=1.0, decision_function_shape='ovr')\n",
        "svm_model.fit(X_train, y_train)\n",
        "\n",
        "y_pred = svm_model.predict(X_val)\n",
        "accuracy = accuracy_score(y_val, y_pred)\n",
        "\n",
        "type_correct = defaultdict(int)\n",
        "type_total = defaultdict(int)\n",
        "\n",
        "for true, pred in zip(y_val, y_pred):\n",
        "    ftype = fault_type_map[true]\n",
        "    type_total[ftype] += 1\n",
        "    if true == pred:\n",
        "        type_correct[ftype] += 1"
      ],
      "metadata": {
        "id": "FlbKLzGGARLF"
      },
      "execution_count": 6,
      "outputs": []
    },
    {
      "cell_type": "code",
      "source": [
        "print(f\"\\n--- Final Overall Validation Accuracy ---\")\n",
        "print(f\"Accuracy = {accuracy:.4f} ({(accuracy * len(y_val)):.0f}/{len(y_val)})\")\n",
        "\n",
        "print(\"\\n--- Final Fault-Type Accuracy ---\")\n",
        "for ftype in sorted(type_total):\n",
        "    acc = type_correct[ftype] / type_total[ftype]\n",
        "    print(f\"{ftype}: Accuracy = {acc:.4f} ({type_correct[ftype]}/{type_total[ftype]})\")"
      ],
      "metadata": {
        "id": "vguZV3abATQt",
        "colab": {
          "base_uri": "https://localhost:8080/"
        },
        "outputId": "faa3e277-a0f1-4d57-d1c3-61dc14362c72"
      },
      "execution_count": 7,
      "outputs": [
        {
          "output_type": "stream",
          "name": "stdout",
          "text": [
            "\n",
            "--- Final Overall Validation Accuracy ---\n",
            "Accuracy = 0.9548 (13866/14522)\n",
            "\n",
            "--- Final Fault-Type Accuracy ---\n",
            "stuck-at-0: Accuracy = 0.9639 (6033/6259)\n",
            "stuck-at-1: Accuracy = 0.9480 (7833/8263)\n"
          ]
        }
      ]
    }
  ],
  "metadata": {
    "colab": {
      "provenance": []
    },
    "kernelspec": {
      "display_name": "Python 3",
      "name": "python3"
    },
    "language_info": {
      "name": "python"
    }
  },
  "nbformat": 4,
  "nbformat_minor": 0
}