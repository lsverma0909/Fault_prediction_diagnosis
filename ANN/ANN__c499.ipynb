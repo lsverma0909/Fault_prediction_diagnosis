{
  "nbformat": 4,
  "nbformat_minor": 0,
  "metadata": {
    "colab": {
      "provenance": []
    },
    "kernelspec": {
      "name": "python3",
      "display_name": "Python 3"
    },
    "language_info": {
      "name": "python"
    }
  },
  "cells": [
    {
      "cell_type": "code",
      "execution_count": 1,
      "metadata": {
        "id": "NidOC8S5riYp"
      },
      "outputs": [],
      "source": [
        "import torch\n",
        "import torch.nn as nn\n",
        "import torch.optim as optim\n",
        "import numpy as np\n",
        "import matplotlib.pyplot as plt"
      ]
    },
    {
      "cell_type": "code",
      "source": [
        "from google.colab import drive\n",
        "drive.mount('/content/drive')"
      ],
      "metadata": {
        "colab": {
          "base_uri": "https://localhost:8080/"
        },
        "id": "TdqY2b8yT15V",
        "outputId": "b3a9259e-25e1-4b10-fa58-54c2cadd2727"
      },
      "execution_count": 2,
      "outputs": [
        {
          "output_type": "stream",
          "name": "stdout",
          "text": [
            "Mounted at /content/drive\n"
          ]
        }
      ]
    },
    {
      "cell_type": "code",
      "source": [
        "test_path = '/content/drive/My Drive/circuits/c499.test'"
      ],
      "metadata": {
        "id": "ST4vYFSbUiTf"
      },
      "execution_count": 3,
      "outputs": []
    },
    {
      "cell_type": "code",
      "source": [
        "import itertools\n",
        "import random\n",
        "from collections import defaultdict\n",
        "import numpy as np\n",
        "import torch\n",
        "from torch.utils.data import Dataset, DataLoader, random_split\n",
        "import torch.nn as nn\n",
        "import torch.optim as optim\n",
        "import matplotlib.pyplot as plt\n",
        "\n",
        "# Seed for reproducibility\n",
        "SEED = 42\n",
        "random.seed(SEED)\n",
        "np.random.seed(SEED)\n",
        "torch.manual_seed(SEED)\n",
        "torch.cuda.manual_seed_all(SEED)\n",
        "torch.backends.cudnn.deterministic = True\n",
        "torch.backends.cudnn.benchmark = False\n",
        "\n",
        "# Expand don't-care patterns\n",
        "def expand_dont_care_limited(pattern, max_expand=15):\n",
        "    x_indices = [i for i, c in enumerate(pattern) if c == 'x']\n",
        "    if len(x_indices) <= max_expand:\n",
        "        chars = [(c if c in '01' else ['0', '1']) for c in pattern]\n",
        "        chars = [(c if isinstance(c, list) else [c]) for c in chars]\n",
        "        return [''.join(bits) for bits in itertools.product(*chars)]\n",
        "    else:\n",
        "        fixed_pattern = list(pattern)\n",
        "        patterns = []\n",
        "        for bits in itertools.product('01', repeat=max_expand):\n",
        "            temp = fixed_pattern.copy()\n",
        "            for i, bit in zip(x_indices[:max_expand], bits):\n",
        "                temp[i] = bit\n",
        "            for i in x_indices[max_expand:]:\n",
        "                temp[i] = random.choice('01')\n",
        "            patterns.append(''.join(temp))\n",
        "        return patterns\n",
        "\n",
        "# Parse .faults file (Atalanta format)\n",
        "def parse_isc_file_limited(filepath, max_expand=3):\n",
        "    combo_to_fault = {}\n",
        "    fault_to_idx = {}\n",
        "    fault_type_map = {}\n",
        "    idx = 0\n",
        "    current_fault = None\n",
        "\n",
        "    with open(filepath, 'r') as file:\n",
        "        for line in file:\n",
        "            line = line.strip()\n",
        "            if not line or line.startswith(\"*\"):\n",
        "                continue\n",
        "            if '/' in line:\n",
        "                parts = line.split(\"/\")\n",
        "                fault = parts[0].strip().replace(\"->\", \"_\") + \"/\" + parts[1].strip()\n",
        "                if fault not in fault_to_idx:\n",
        "                    fault_to_idx[fault] = idx\n",
        "                    if parts[1].strip() == \"0\":\n",
        "                        fault_type_map[idx] = \"stuck-at-0\"\n",
        "                    elif parts[1].strip() == \"1\":\n",
        "                        fault_type_map[idx] = \"stuck-at-1\"\n",
        "                    else:\n",
        "                        fault_type_map[idx] = \"unknown\"\n",
        "                    idx += 1\n",
        "                current_fault = fault\n",
        "            elif ':' in line and current_fault:\n",
        "                parts = line.split(\":\")[1].strip().split()\n",
        "                input_pat = parts[0]\n",
        "                output_pat = parts[1] if len(parts) > 1 else \"\"\n",
        "                for xi in expand_dont_care_limited(input_pat, max_expand):\n",
        "                    for yo in expand_dont_care_limited(output_pat, max_expand):\n",
        "                        combined = xi + yo\n",
        "                        if combined not in combo_to_fault:\n",
        "                            combo_to_fault[combined] = fault_to_idx[current_fault]\n",
        "    return combo_to_fault, fault_to_idx, fault_type_map"
      ],
      "metadata": {
        "id": "sxcY_02TF_1e"
      },
      "execution_count": 4,
      "outputs": []
    },
    {
      "cell_type": "code",
      "source": [
        "# Custom Dataset\n",
        "class FaultDatasetMC(Dataset):\n",
        "    def __init__(self, combo_to_fault):\n",
        "        self.samples = []\n",
        "        for combo, label in combo_to_fault.items():\n",
        "            features = [int(c) for c in combo]\n",
        "            self.samples.append((features, label))\n",
        "\n",
        "    def __len__(self):\n",
        "        return len(self.samples)\n",
        "\n",
        "    def __getitem__(self, idx):\n",
        "        x, y = self.samples[idx]\n",
        "        return (\n",
        "            torch.tensor(x, dtype=torch.float32).unsqueeze(1),  # [seq_len, 1]\n",
        "            torch.tensor(y, dtype=torch.long)\n",
        "        )"
      ],
      "metadata": {
        "id": "7rgWyyOWGA0A"
      },
      "execution_count": 5,
      "outputs": []
    },
    {
      "cell_type": "code",
      "source": [
        "# ANN Classifier\n",
        "class FaultANNClassifier(nn.Module):\n",
        "    def __init__(self, input_size, hidden_size, num_classes):\n",
        "        super(FaultANNClassifier, self).__init__()\n",
        "        self.network = nn.Sequential(\n",
        "            nn.Flatten(),\n",
        "            nn.Linear(input_size, hidden_size),\n",
        "            nn.ReLU(),\n",
        "            nn.Dropout(0.3),\n",
        "            nn.Linear(hidden_size, hidden_size // 2),\n",
        "            nn.ReLU(),\n",
        "            nn.Linear(hidden_size // 2, num_classes)\n",
        "        )\n",
        "\n",
        "    def forward(self, x):\n",
        "        if len(x.shape) == 3:\n",
        "            x = x.squeeze(1)\n",
        "        return self.network(x)"
      ],
      "metadata": {
        "id": "hghiX_ybGDVy"
      },
      "execution_count": 6,
      "outputs": []
    },
    {
      "cell_type": "code",
      "source": [
        "combo_to_fault, fault_to_idx, fault_type_map = parse_isc_file_limited(test_path, max_expand=3)\n",
        "dataset = FaultDatasetMC(combo_to_fault)\n",
        "\n",
        "train_size = int(0.8 * len(dataset))\n",
        "val_size = len(dataset) - train_size\n",
        "train_set, val_set = random_split(dataset, [train_size, val_size])\n",
        "train_loader = DataLoader(train_set, batch_size=64, shuffle=True)\n",
        "val_loader = DataLoader(val_set, batch_size=64)\n",
        "\n",
        "# Model setup\n",
        "device = torch.device(\"cuda\" if torch.cuda.is_available() else \"cpu\")\n",
        "sample_input, _ = dataset[0]\n",
        "input_size = sample_input.numel()\n",
        "num_classes = len(fault_to_idx)\n",
        "\n",
        "model = FaultANNClassifier(input_size=input_size, hidden_size=128, num_classes=num_classes).to(device)\n",
        "loss_fn = nn.CrossEntropyLoss()\n",
        "optimizer = optim.Adam(model.parameters(), lr=0.001)"
      ],
      "metadata": {
        "id": "57KpaY1GGGPp"
      },
      "execution_count": 7,
      "outputs": []
    },
    {
      "cell_type": "code",
      "source": [
        "# Training\n",
        "train_losses = []\n",
        "val_losses = []\n",
        "val_accuracies = []\n",
        "\n",
        "for epoch in range(50):\n",
        "    model.train()\n",
        "    train_loss = 0.0\n",
        "    for X, y in train_loader:\n",
        "        X, y = X.to(device), y.to(device)\n",
        "        optimizer.zero_grad()\n",
        "        out = model(X)\n",
        "        loss = loss_fn(out, y)\n",
        "        loss.backward()\n",
        "        optimizer.step()\n",
        "        train_loss += loss.item()\n",
        "    train_loss /= len(train_loader)\n",
        "    train_losses.append(train_loss)\n",
        "\n",
        "    # Validation\n",
        "    model.eval()\n",
        "    val_loss = 0.0\n",
        "    correct = 0\n",
        "    total = 0\n",
        "    with torch.no_grad():\n",
        "        for X, y in val_loader:\n",
        "            X, y = X.to(device), y.to(device)\n",
        "            out = model(X)\n",
        "            loss = loss_fn(out, y)\n",
        "            val_loss += loss.item()\n",
        "            preds = out.argmax(dim=1)\n",
        "            correct += (preds == y).sum().item()\n",
        "            total += y.size(0)\n",
        "    val_loss /= len(val_loader)\n",
        "    accuracy = correct / total\n",
        "    val_losses.append(val_loss)\n",
        "    val_accuracies.append(accuracy)\n",
        "\n",
        "    print(f\"Epoch {epoch}, Train Loss: {train_loss:.4f}, Val Loss: {val_loss:.4f}, Accuracy: {accuracy:.4f}\")\n",
        "\n",
        "# Per-Fault-Type Accuracy\n",
        "type_correct = defaultdict(int)\n",
        "type_total = defaultdict(int)\n",
        "\n",
        "model.eval()\n",
        "with torch.no_grad():\n",
        "    for X, y in val_loader:\n",
        "        X, y = X.to(device), y.to(device)\n",
        "        out = model(X)\n",
        "        preds = out.argmax(dim=1)\n",
        "        for pred, label in zip(preds.cpu().numpy(), y.cpu().numpy()):\n",
        "            ftype = fault_type_map[label]\n",
        "            type_total[ftype] += 1\n",
        "            if pred == label:\n",
        "                type_correct[ftype] += 1\n",
        "\n",
        "# Print fault-type specific accuracy\n",
        "print(\"\\n--- Fault-Type Accuracy ---\")\n",
        "for ftype in sorted(type_total):\n",
        "    acc = type_correct[ftype] / type_total[ftype]\n",
        "    print(f\"{ftype}: Accuracy = {acc:.4f} ({type_correct[ftype]}/{type_total[ftype]})\")"
      ],
      "metadata": {
        "colab": {
          "base_uri": "https://localhost:8080/"
        },
        "id": "yr17HeeoGIhq",
        "outputId": "2baa491e-7bbb-4cf8-e915-b60287ff3b8a"
      },
      "execution_count": 8,
      "outputs": [
        {
          "output_type": "stream",
          "name": "stdout",
          "text": [
            "Epoch 0, Train Loss: 3.2063, Val Loss: 1.5321, Accuracy: 0.6332\n",
            "Epoch 1, Train Loss: 1.4438, Val Loss: 1.0370, Accuracy: 0.7321\n",
            "Epoch 2, Train Loss: 1.1151, Val Loss: 0.8229, Accuracy: 0.7741\n",
            "Epoch 3, Train Loss: 0.9595, Val Loss: 0.7451, Accuracy: 0.7847\n",
            "Epoch 4, Train Loss: 0.8643, Val Loss: 0.6602, Accuracy: 0.8011\n",
            "Epoch 5, Train Loss: 0.7917, Val Loss: 0.6137, Accuracy: 0.8099\n",
            "Epoch 6, Train Loss: 0.7349, Val Loss: 0.5731, Accuracy: 0.8188\n",
            "Epoch 7, Train Loss: 0.6965, Val Loss: 0.5345, Accuracy: 0.8296\n",
            "Epoch 8, Train Loss: 0.6588, Val Loss: 0.5092, Accuracy: 0.8370\n",
            "Epoch 9, Train Loss: 0.6261, Val Loss: 0.4743, Accuracy: 0.8449\n",
            "Epoch 10, Train Loss: 0.5958, Val Loss: 0.4449, Accuracy: 0.8539\n",
            "Epoch 11, Train Loss: 0.5778, Val Loss: 0.4371, Accuracy: 0.8553\n",
            "Epoch 12, Train Loss: 0.5494, Val Loss: 0.4130, Accuracy: 0.8610\n",
            "Epoch 13, Train Loss: 0.5343, Val Loss: 0.3829, Accuracy: 0.8735\n",
            "Epoch 14, Train Loss: 0.5126, Val Loss: 0.3679, Accuracy: 0.8797\n",
            "Epoch 15, Train Loss: 0.5000, Val Loss: 0.3672, Accuracy: 0.8774\n",
            "Epoch 16, Train Loss: 0.4882, Val Loss: 0.3443, Accuracy: 0.8878\n",
            "Epoch 17, Train Loss: 0.4727, Val Loss: 0.3282, Accuracy: 0.8920\n",
            "Epoch 18, Train Loss: 0.4605, Val Loss: 0.3217, Accuracy: 0.8920\n",
            "Epoch 19, Train Loss: 0.4492, Val Loss: 0.3105, Accuracy: 0.8975\n",
            "Epoch 20, Train Loss: 0.4410, Val Loss: 0.2950, Accuracy: 0.9029\n",
            "Epoch 21, Train Loss: 0.4314, Val Loss: 0.2906, Accuracy: 0.9019\n",
            "Epoch 22, Train Loss: 0.4196, Val Loss: 0.2844, Accuracy: 0.9070\n",
            "Epoch 23, Train Loss: 0.4076, Val Loss: 0.2697, Accuracy: 0.9112\n",
            "Epoch 24, Train Loss: 0.3987, Val Loss: 0.2708, Accuracy: 0.9099\n",
            "Epoch 25, Train Loss: 0.3974, Val Loss: 0.2602, Accuracy: 0.9130\n",
            "Epoch 26, Train Loss: 0.3921, Val Loss: 0.2538, Accuracy: 0.9187\n",
            "Epoch 27, Train Loss: 0.3843, Val Loss: 0.2408, Accuracy: 0.9218\n",
            "Epoch 28, Train Loss: 0.3776, Val Loss: 0.2356, Accuracy: 0.9239\n",
            "Epoch 29, Train Loss: 0.3720, Val Loss: 0.2375, Accuracy: 0.9248\n",
            "Epoch 30, Train Loss: 0.3625, Val Loss: 0.2242, Accuracy: 0.9289\n",
            "Epoch 31, Train Loss: 0.3612, Val Loss: 0.2249, Accuracy: 0.9289\n",
            "Epoch 32, Train Loss: 0.3535, Val Loss: 0.2255, Accuracy: 0.9292\n",
            "Epoch 33, Train Loss: 0.3488, Val Loss: 0.2172, Accuracy: 0.9294\n",
            "Epoch 34, Train Loss: 0.3475, Val Loss: 0.2134, Accuracy: 0.9321\n",
            "Epoch 35, Train Loss: 0.3415, Val Loss: 0.2080, Accuracy: 0.9336\n",
            "Epoch 36, Train Loss: 0.3399, Val Loss: 0.2071, Accuracy: 0.9346\n",
            "Epoch 37, Train Loss: 0.3381, Val Loss: 0.2033, Accuracy: 0.9337\n",
            "Epoch 38, Train Loss: 0.3336, Val Loss: 0.2016, Accuracy: 0.9344\n",
            "Epoch 39, Train Loss: 0.3340, Val Loss: 0.2010, Accuracy: 0.9364\n",
            "Epoch 40, Train Loss: 0.3269, Val Loss: 0.1967, Accuracy: 0.9376\n",
            "Epoch 41, Train Loss: 0.3240, Val Loss: 0.1980, Accuracy: 0.9374\n",
            "Epoch 42, Train Loss: 0.3216, Val Loss: 0.1888, Accuracy: 0.9399\n",
            "Epoch 43, Train Loss: 0.3200, Val Loss: 0.1840, Accuracy: 0.9411\n",
            "Epoch 44, Train Loss: 0.3168, Val Loss: 0.1981, Accuracy: 0.9366\n",
            "Epoch 45, Train Loss: 0.3163, Val Loss: 0.1885, Accuracy: 0.9405\n",
            "Epoch 46, Train Loss: 0.3055, Val Loss: 0.1766, Accuracy: 0.9448\n",
            "Epoch 47, Train Loss: 0.3125, Val Loss: 0.1800, Accuracy: 0.9417\n",
            "Epoch 48, Train Loss: 0.3047, Val Loss: 0.1741, Accuracy: 0.9464\n",
            "Epoch 49, Train Loss: 0.2995, Val Loss: 0.1734, Accuracy: 0.9466\n",
            "\n",
            "--- Fault-Type Accuracy ---\n",
            "stuck-at-0: Accuracy = 0.9684 (6252/6456)\n",
            "stuck-at-1: Accuracy = 0.9292 (7495/8066)\n"
          ]
        }
      ]
    },
    {
      "cell_type": "code",
      "source": [
        "final_accuracy = val_accuracies[-1]\n",
        "\n",
        "print(f\"\\n--- Final Overall Validation Accuracy ---\")\n",
        "print(f\"Total Accuracy = {final_accuracy:.4f} ({correct}/{total})\")\n",
        "\n",
        "print(\"\\n--- Final Fault-Type Accuracy ---\")\n",
        "for ftype in sorted(type_total):\n",
        "    acc = type_correct[ftype] / type_total[ftype]\n",
        "    print(f\"{ftype}: Accuracy = {acc:.4f} ({type_correct[ftype]}/{type_total[ftype]})\")"
      ],
      "metadata": {
        "id": "ENG7p2xtGvjD",
        "colab": {
          "base_uri": "https://localhost:8080/"
        },
        "outputId": "fc3e1fdd-d3aa-4e38-c364-0da6dd30f824"
      },
      "execution_count": 9,
      "outputs": [
        {
          "output_type": "stream",
          "name": "stdout",
          "text": [
            "\n",
            "--- Final Overall Validation Accuracy ---\n",
            "Total Accuracy = 0.9466 (13747/14522)\n",
            "\n",
            "--- Final Fault-Type Accuracy ---\n",
            "stuck-at-0: Accuracy = 0.9684 (6252/6456)\n",
            "stuck-at-1: Accuracy = 0.9292 (7495/8066)\n"
          ]
        }
      ]
    },
    {
      "cell_type": "code",
      "source": [
        "import matplotlib.pyplot as plt\n",
        "\n",
        "epochs = range(1, len(train_losses) + 1)\n",
        "\n",
        "plt.figure(figsize=(12, 5))\n",
        "\n",
        "# Loss plot\n",
        "plt.subplot(1, 2, 1)\n",
        "plt.plot(epochs, train_losses, label='Train Loss', marker='o')\n",
        "plt.plot(epochs, val_losses, label='Val Loss', marker='o')\n",
        "plt.xlabel('Epoch')\n",
        "plt.ylabel('Loss')\n",
        "plt.title('Loss Over Epochs')\n",
        "plt.legend()\n",
        "plt.grid(True)\n",
        "\n",
        "# Accuracy plot\n",
        "plt.subplot(1, 2, 2)\n",
        "plt.plot(epochs, val_accuracies, label='Val Accuracy', color='green', marker='o')\n",
        "plt.xlabel('Epoch')\n",
        "plt.ylabel('Accuracy')\n",
        "plt.title('Validation Accuracy Over Epochs')\n",
        "plt.legend()\n",
        "plt.grid(True)\n",
        "\n",
        "plt.tight_layout()\n",
        "plt.show()"
      ],
      "metadata": {
        "id": "cuYPqusnGNoU",
        "colab": {
          "base_uri": "https://localhost:8080/",
          "height": 507
        },
        "outputId": "ae0094fd-9e18-4e0b-c195-d69add1e95d9"
      },
      "execution_count": 10,
      "outputs": [
        {
          "output_type": "display_data",
          "data": {
            "text/plain": [
              "<Figure size 1200x500 with 2 Axes>"
            ],
            "image/png": "[encoded data removed]"
          },
          "metadata": {}
        }
      ]
    }
  ]
}