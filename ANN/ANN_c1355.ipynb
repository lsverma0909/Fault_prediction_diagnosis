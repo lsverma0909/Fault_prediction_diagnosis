{
  "nbformat": 4,
  "nbformat_minor": 0,
  "metadata": {
    "colab": {
      "provenance": []
    },
    "kernelspec": {
      "name": "python3",
      "display_name": "Python 3"
    },
    "language_info": {
      "name": "python"
    }
  },
  "cells": [
    {
      "cell_type": "code",
      "execution_count": 1,
      "metadata": {
        "id": "NidOC8S5riYp"
      },
      "outputs": [],
      "source": [
        "import torch\n",
        "import torch.nn as nn\n",
        "import torch.optim as optim\n",
        "import numpy as np\n",
        "import matplotlib.pyplot as plt"
      ]
    },
    {
      "cell_type": "code",
      "source": [
        "from google.colab import drive\n",
        "drive.mount('/content/drive')"
      ],
      "metadata": {
        "colab": {
          "base_uri": "https://localhost:8080/"
        },
        "id": "TdqY2b8yT15V",
        "outputId": "7c00cb96-d1f6-4b8a-af93-76a1abd510c6"
      },
      "execution_count": 2,
      "outputs": [
        {
          "output_type": "stream",
          "name": "stdout",
          "text": [
            "Mounted at /content/drive\n"
          ]
        }
      ]
    },
    {
      "cell_type": "code",
      "source": [
        "test_path = '/content/drive/My Drive/circuits/c1355.test'"
      ],
      "metadata": {
        "id": "ST4vYFSbUiTf"
      },
      "execution_count": 3,
      "outputs": []
    },
    {
      "cell_type": "code",
      "source": [
        "import itertools\n",
        "import random\n",
        "from collections import defaultdict\n",
        "import numpy as np\n",
        "import torch\n",
        "from torch.utils.data import Dataset, DataLoader, random_split\n",
        "import torch.nn as nn\n",
        "import torch.optim as optim\n",
        "import matplotlib.pyplot as plt\n",
        "\n",
        "# Seed for reproducibility\n",
        "SEED = 42\n",
        "random.seed(SEED)\n",
        "np.random.seed(SEED)\n",
        "torch.manual_seed(SEED)\n",
        "torch.cuda.manual_seed_all(SEED)\n",
        "torch.backends.cudnn.deterministic = True\n",
        "torch.backends.cudnn.benchmark = False\n",
        "\n",
        "# Expand don't-care patterns\n",
        "def expand_dont_care_limited(pattern, max_expand=15):\n",
        "    x_indices = [i for i, c in enumerate(pattern) if c == 'x']\n",
        "    if len(x_indices) <= max_expand:\n",
        "        chars = [(c if c in '01' else ['0', '1']) for c in pattern]\n",
        "        chars = [(c if isinstance(c, list) else [c]) for c in chars]\n",
        "        return [''.join(bits) for bits in itertools.product(*chars)]\n",
        "    else:\n",
        "        fixed_pattern = list(pattern)\n",
        "        patterns = []\n",
        "        for bits in itertools.product('01', repeat=max_expand):\n",
        "            temp = fixed_pattern.copy()\n",
        "            for i, bit in zip(x_indices[:max_expand], bits):\n",
        "                temp[i] = bit\n",
        "            for i in x_indices[max_expand:]:\n",
        "                temp[i] = random.choice('01')\n",
        "            patterns.append(''.join(temp))\n",
        "        return patterns\n",
        "\n",
        "# Parse .faults file (Atalanta format)\n",
        "def parse_isc_file_limited(filepath, max_expand=3):\n",
        "    combo_to_fault = {}\n",
        "    fault_to_idx = {}\n",
        "    fault_type_map = {}\n",
        "    idx = 0\n",
        "    current_fault = None\n",
        "\n",
        "    with open(filepath, 'r') as file:\n",
        "        for line in file:\n",
        "            line = line.strip()\n",
        "            if not line or line.startswith(\"*\"):\n",
        "                continue\n",
        "            if '/' in line:\n",
        "                parts = line.split(\"/\")\n",
        "                fault = parts[0].strip().replace(\"->\", \"_\") + \"/\" + parts[1].strip()\n",
        "                if fault not in fault_to_idx:\n",
        "                    fault_to_idx[fault] = idx\n",
        "                    if parts[1].strip() == \"0\":\n",
        "                        fault_type_map[idx] = \"stuck-at-0\"\n",
        "                    elif parts[1].strip() == \"1\":\n",
        "                        fault_type_map[idx] = \"stuck-at-1\"\n",
        "                    else:\n",
        "                        fault_type_map[idx] = \"unknown\"\n",
        "                    idx += 1\n",
        "                current_fault = fault\n",
        "            elif ':' in line and current_fault:\n",
        "                parts = line.split(\":\")[1].strip().split()\n",
        "                input_pat = parts[0]\n",
        "                output_pat = parts[1] if len(parts) > 1 else \"\"\n",
        "                for xi in expand_dont_care_limited(input_pat, max_expand):\n",
        "                    for yo in expand_dont_care_limited(output_pat, max_expand):\n",
        "                        combined = xi + yo\n",
        "                        if combined not in combo_to_fault:\n",
        "                            combo_to_fault[combined] = fault_to_idx[current_fault]\n",
        "    return combo_to_fault, fault_to_idx, fault_type_map"
      ],
      "metadata": {
        "id": "sxcY_02TF_1e"
      },
      "execution_count": 4,
      "outputs": []
    },
    {
      "cell_type": "code",
      "source": [
        "# Custom Dataset\n",
        "class FaultDatasetMC(Dataset):\n",
        "    def __init__(self, combo_to_fault):\n",
        "        self.samples = []\n",
        "        for combo, label in combo_to_fault.items():\n",
        "            features = [int(c) for c in combo]\n",
        "            self.samples.append((features, label))\n",
        "\n",
        "    def __len__(self):\n",
        "        return len(self.samples)\n",
        "\n",
        "    def __getitem__(self, idx):\n",
        "        x, y = self.samples[idx]\n",
        "        return (\n",
        "            torch.tensor(x, dtype=torch.float32).unsqueeze(1),  # [seq_len, 1]\n",
        "            torch.tensor(y, dtype=torch.long)\n",
        "        )"
      ],
      "metadata": {
        "id": "7rgWyyOWGA0A"
      },
      "execution_count": 5,
      "outputs": []
    },
    {
      "cell_type": "code",
      "source": [
        "# ANN Classifier\n",
        "class FaultANNClassifier(nn.Module):\n",
        "    def __init__(self, input_size, hidden_size, num_classes):\n",
        "        super(FaultANNClassifier, self).__init__()\n",
        "        self.network = nn.Sequential(\n",
        "            nn.Flatten(),\n",
        "            nn.Linear(input_size, hidden_size),\n",
        "            nn.ReLU(),\n",
        "            nn.Dropout(0.3),\n",
        "            nn.Linear(hidden_size, hidden_size // 2),\n",
        "            nn.ReLU(),\n",
        "            nn.Linear(hidden_size // 2, num_classes)\n",
        "        )\n",
        "\n",
        "    def forward(self, x):\n",
        "        if len(x.shape) == 3:\n",
        "            x = x.squeeze(1)\n",
        "        return self.network(x)"
      ],
      "metadata": {
        "id": "hghiX_ybGDVy"
      },
      "execution_count": 6,
      "outputs": []
    },
    {
      "cell_type": "code",
      "source": [
        "combo_to_fault, fault_to_idx, fault_type_map = parse_isc_file_limited(test_path, max_expand=3)\n",
        "dataset = FaultDatasetMC(combo_to_fault)\n",
        "\n",
        "train_size = int(0.8 * len(dataset))\n",
        "val_size = len(dataset) - train_size\n",
        "train_set, val_set = random_split(dataset, [train_size, val_size])\n",
        "train_loader = DataLoader(train_set, batch_size=64, shuffle=True)\n",
        "val_loader = DataLoader(val_set, batch_size=64)\n",
        "\n",
        "# Model setup\n",
        "device = torch.device(\"cuda\" if torch.cuda.is_available() else \"cpu\")\n",
        "sample_input, _ = dataset[0]\n",
        "input_size = sample_input.numel()\n",
        "num_classes = len(fault_to_idx)\n",
        "\n",
        "model = FaultANNClassifier(input_size=input_size, hidden_size=128, num_classes=num_classes).to(device)\n",
        "loss_fn = nn.CrossEntropyLoss()\n",
        "optimizer = optim.Adam(model.parameters(), lr=0.001)"
      ],
      "metadata": {
        "id": "57KpaY1GGGPp"
      },
      "execution_count": 7,
      "outputs": []
    },
    {
      "cell_type": "code",
      "source": [
        "# Training\n",
        "train_losses = []\n",
        "val_losses = []\n",
        "val_accuracies = []\n",
        "\n",
        "for epoch in range(50):\n",
        "    model.train()\n",
        "    train_loss = 0.0\n",
        "    for X, y in train_loader:\n",
        "        X, y = X.to(device), y.to(device)\n",
        "        optimizer.zero_grad()\n",
        "        out = model(X)\n",
        "        loss = loss_fn(out, y)\n",
        "        loss.backward()\n",
        "        optimizer.step()\n",
        "        train_loss += loss.item()\n",
        "    train_loss /= len(train_loader)\n",
        "    train_losses.append(train_loss)\n",
        "\n",
        "    # Validation\n",
        "    model.eval()\n",
        "    val_loss = 0.0\n",
        "    correct = 0\n",
        "    total = 0\n",
        "    with torch.no_grad():\n",
        "        for X, y in val_loader:\n",
        "            X, y = X.to(device), y.to(device)\n",
        "            out = model(X)\n",
        "            loss = loss_fn(out, y)\n",
        "            val_loss += loss.item()\n",
        "            preds = out.argmax(dim=1)\n",
        "            correct += (preds == y).sum().item()\n",
        "            total += y.size(0)\n",
        "    val_loss /= len(val_loader)\n",
        "    accuracy = correct / total\n",
        "    val_losses.append(val_loss)\n",
        "    val_accuracies.append(accuracy)\n",
        "\n",
        "    print(f\"Epoch {epoch}, Train Loss: {train_loss:.4f}, Val Loss: {val_loss:.4f}, Accuracy: {accuracy:.4f}\")\n",
        "\n",
        "# Per-Fault-Type Accuracy\n",
        "type_correct = defaultdict(int)\n",
        "type_total = defaultdict(int)\n",
        "\n",
        "model.eval()\n",
        "with torch.no_grad():\n",
        "    for X, y in val_loader:\n",
        "        X, y = X.to(device), y.to(device)\n",
        "        out = model(X)\n",
        "        preds = out.argmax(dim=1)\n",
        "        for pred, label in zip(preds.cpu().numpy(), y.cpu().numpy()):\n",
        "            ftype = fault_type_map[label]\n",
        "            type_total[ftype] += 1\n",
        "            if pred == label:\n",
        "                type_correct[ftype] += 1\n",
        "\n",
        "# Print fault-type specific accuracy\n",
        "print(\"\\n--- Fault-Type Accuracy ---\")\n",
        "for ftype in sorted(type_total):\n",
        "    acc = type_correct[ftype] / type_total[ftype]\n",
        "    print(f\"{ftype}: Accuracy = {acc:.4f} ({type_correct[ftype]}/{type_total[ftype]})\")"
      ],
      "metadata": {
        "colab": {
          "base_uri": "https://localhost:8080/"
        },
        "id": "yr17HeeoGIhq",
        "outputId": "8a776044-0366-42cc-a701-81aee2646f97"
      },
      "execution_count": 8,
      "outputs": [
        {
          "output_type": "stream",
          "name": "stdout",
          "text": [
            "Epoch 0, Train Loss: 3.1464, Val Loss: 1.9763, Accuracy: 0.3618\n",
            "Epoch 1, Train Loss: 1.9160, Val Loss: 1.5676, Accuracy: 0.4333\n",
            "Epoch 2, Train Loss: 1.6672, Val Loss: 1.4296, Accuracy: 0.4535\n",
            "Epoch 3, Train Loss: 1.5513, Val Loss: 1.3405, Accuracy: 0.4717\n",
            "Epoch 4, Train Loss: 1.4791, Val Loss: 1.2784, Accuracy: 0.4895\n",
            "Epoch 5, Train Loss: 1.4303, Val Loss: 1.2409, Accuracy: 0.4954\n",
            "Epoch 6, Train Loss: 1.3880, Val Loss: 1.2002, Accuracy: 0.5069\n",
            "Epoch 7, Train Loss: 1.3565, Val Loss: 1.1816, Accuracy: 0.5139\n",
            "Epoch 8, Train Loss: 1.3284, Val Loss: 1.1539, Accuracy: 0.5172\n",
            "Epoch 9, Train Loss: 1.3066, Val Loss: 1.1365, Accuracy: 0.5275\n",
            "Epoch 10, Train Loss: 1.2877, Val Loss: 1.1148, Accuracy: 0.5320\n",
            "Epoch 11, Train Loss: 1.2699, Val Loss: 1.0952, Accuracy: 0.5419\n",
            "Epoch 12, Train Loss: 1.2523, Val Loss: 1.0834, Accuracy: 0.5412\n",
            "Epoch 13, Train Loss: 1.2416, Val Loss: 1.0680, Accuracy: 0.5500\n",
            "Epoch 14, Train Loss: 1.2269, Val Loss: 1.0510, Accuracy: 0.5550\n",
            "Epoch 15, Train Loss: 1.2210, Val Loss: 1.0474, Accuracy: 0.5553\n",
            "Epoch 16, Train Loss: 1.2107, Val Loss: 1.0407, Accuracy: 0.5595\n",
            "Epoch 17, Train Loss: 1.1977, Val Loss: 1.0344, Accuracy: 0.5653\n",
            "Epoch 18, Train Loss: 1.1897, Val Loss: 1.0184, Accuracy: 0.5696\n",
            "Epoch 19, Train Loss: 1.1788, Val Loss: 1.0081, Accuracy: 0.5704\n",
            "Epoch 20, Train Loss: 1.1760, Val Loss: 0.9985, Accuracy: 0.5769\n",
            "Epoch 21, Train Loss: 1.1640, Val Loss: 0.9900, Accuracy: 0.5796\n",
            "Epoch 22, Train Loss: 1.1597, Val Loss: 0.9764, Accuracy: 0.5883\n",
            "Epoch 23, Train Loss: 1.1551, Val Loss: 0.9708, Accuracy: 0.5863\n",
            "Epoch 24, Train Loss: 1.1489, Val Loss: 0.9652, Accuracy: 0.5869\n",
            "Epoch 25, Train Loss: 1.1454, Val Loss: 0.9630, Accuracy: 0.5930\n",
            "Epoch 26, Train Loss: 1.1344, Val Loss: 0.9555, Accuracy: 0.5973\n",
            "Epoch 27, Train Loss: 1.1316, Val Loss: 0.9411, Accuracy: 0.5992\n",
            "Epoch 28, Train Loss: 1.1290, Val Loss: 0.9494, Accuracy: 0.5978\n",
            "Epoch 29, Train Loss: 1.1234, Val Loss: 0.9357, Accuracy: 0.6054\n",
            "Epoch 30, Train Loss: 1.1226, Val Loss: 0.9312, Accuracy: 0.6031\n",
            "Epoch 31, Train Loss: 1.1115, Val Loss: 0.9218, Accuracy: 0.6075\n",
            "Epoch 32, Train Loss: 1.1086, Val Loss: 0.9128, Accuracy: 0.6104\n",
            "Epoch 33, Train Loss: 1.1049, Val Loss: 0.9218, Accuracy: 0.6087\n",
            "Epoch 34, Train Loss: 1.1006, Val Loss: 0.9052, Accuracy: 0.6186\n",
            "Epoch 35, Train Loss: 1.0979, Val Loss: 0.9096, Accuracy: 0.6126\n",
            "Epoch 36, Train Loss: 1.0934, Val Loss: 0.9017, Accuracy: 0.6198\n",
            "Epoch 37, Train Loss: 1.0923, Val Loss: 0.8982, Accuracy: 0.6259\n",
            "Epoch 38, Train Loss: 1.0899, Val Loss: 0.9001, Accuracy: 0.6163\n",
            "Epoch 39, Train Loss: 1.0856, Val Loss: 0.8945, Accuracy: 0.6218\n",
            "Epoch 40, Train Loss: 1.0828, Val Loss: 0.8878, Accuracy: 0.6213\n",
            "Epoch 41, Train Loss: 1.0785, Val Loss: 0.8873, Accuracy: 0.6197\n",
            "Epoch 42, Train Loss: 1.0777, Val Loss: 0.8810, Accuracy: 0.6230\n",
            "Epoch 43, Train Loss: 1.0760, Val Loss: 0.8780, Accuracy: 0.6272\n",
            "Epoch 44, Train Loss: 1.0707, Val Loss: 0.8732, Accuracy: 0.6293\n",
            "Epoch 45, Train Loss: 1.0692, Val Loss: 0.8647, Accuracy: 0.6373\n",
            "Epoch 46, Train Loss: 1.0679, Val Loss: 0.8678, Accuracy: 0.6364\n",
            "Epoch 47, Train Loss: 1.0640, Val Loss: 0.8713, Accuracy: 0.6318\n",
            "Epoch 48, Train Loss: 1.0603, Val Loss: 0.8561, Accuracy: 0.6380\n",
            "Epoch 49, Train Loss: 1.0647, Val Loss: 0.8600, Accuracy: 0.6346\n",
            "\n",
            "--- Fault-Type Accuracy ---\n",
            "stuck-at-0: Accuracy = 0.4985 (2555/5125)\n",
            "stuck-at-1: Accuracy = 0.6628 (16355/24674)\n"
          ]
        }
      ]
    },
    {
      "cell_type": "code",
      "source": [
        "final_accuracy = val_accuracies[-1]\n",
        "\n",
        "print(f\"\\n--- Final Overall Validation Accuracy ---\")\n",
        "print(f\"Total Accuracy = {final_accuracy:.4f} ({correct}/{total})\")\n",
        "\n",
        "print(\"\\n--- Final Fault-Type Accuracy ---\")\n",
        "for ftype in sorted(type_total):\n",
        "    acc = type_correct[ftype] / type_total[ftype]\n",
        "    print(f\"{ftype}: Accuracy = {acc:.4f} ({type_correct[ftype]}/{type_total[ftype]})\")"
      ],
      "metadata": {
        "colab": {
          "base_uri": "https://localhost:8080/"
        },
        "id": "ENG7p2xtGvjD",
        "outputId": "bbd3b913-56cb-4780-c8cb-a3ffbe9b4d09"
      },
      "execution_count": 10,
      "outputs": [
        {
          "output_type": "stream",
          "name": "stdout",
          "text": [
            "\n",
            "--- Final Overall Validation Accuracy ---\n",
            "Total Accuracy = 0.6346 (18910/29799)\n",
            "\n",
            "--- Final Fault-Type Accuracy ---\n",
            "stuck-at-0: Accuracy = 0.4985 (2555/5125)\n",
            "stuck-at-1: Accuracy = 0.6628 (16355/24674)\n"
          ]
        }
      ]
    },
    {
      "cell_type": "code",
      "source": [
        "import matplotlib.pyplot as plt\n",
        "\n",
        "epochs = range(1, len(train_losses) + 1)\n",
        "\n",
        "plt.figure(figsize=(12, 5))\n",
        "\n",
        "# Loss plot\n",
        "plt.subplot(1, 2, 1)\n",
        "plt.plot(epochs, train_losses, label='Train Loss', marker='o')\n",
        "plt.plot(epochs, val_losses, label='Val Loss', marker='o')\n",
        "plt.xlabel('Epoch')\n",
        "plt.ylabel('Loss')\n",
        "plt.title('Loss Over Epochs')\n",
        "plt.legend()\n",
        "plt.grid(True)\n",
        "\n",
        "# Accuracy plot\n",
        "plt.subplot(1, 2, 2)\n",
        "plt.plot(epochs, val_accuracies, label='Val Accuracy', color='green', marker='o')\n",
        "plt.xlabel('Epoch')\n",
        "plt.ylabel('Accuracy')\n",
        "plt.title('Validation Accuracy Over Epochs')\n",
        "plt.legend()\n",
        "plt.grid(True)\n",
        "\n",
        "plt.tight_layout()\n",
        "plt.show()"
      ],
      "metadata": {
        "colab": {
          "base_uri": "https://localhost:8080/",
          "height": 507
        },
        "id": "cuYPqusnGNoU",
        "outputId": "6e44e432-6c85-4fbe-af55-4eb074729ca3"
      },
      "execution_count": 9,
      "outputs": [
        {
          "output_type": "display_data",
          "data": {
            "text/plain": [
              "<Figure size 1200x500 with 2 Axes>"
            ],
            "image/png": "[encoded data removed]"
          },
          "metadata": {}
        }
      ]
    }
  ]
}