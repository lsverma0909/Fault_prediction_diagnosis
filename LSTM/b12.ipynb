{
  "nbformat": 4,
  "nbformat_minor": 0,
  "metadata": {
    "colab": {
      "provenance": []
    },
    "kernelspec": {
      "name": "python3",
      "display_name": "Python 3"
    },
    "language_info": {
      "name": "python"
    }
  },
  "cells": [
    {
      "cell_type": "code",
      "execution_count": 85,
      "metadata": {
        "id": "D0qpHN3UVpm9"
      },
      "outputs": [],
      "source": [
        "import torch\n",
        "import torch.nn as nn\n",
        "import torch.optim as optim\n",
        "import pandas as pd\n",
        "import numpy as np\n",
        "import matplotlib.pyplot as plt"
      ]
    },
    {
      "cell_type": "code",
      "source": [
        "# LSTM Model Definition with Dropout to reduce overfitting\n",
        "class LSTMModel(nn.Module):\n",
        "    def __init__(self, input_size, hidden_size, output_size, dropout_prob=0.2):\n",
        "        super(LSTMModel, self).__init__()\n",
        "        self.hidden_size = hidden_size\n",
        "\n",
        "        # Define LSTM layer with Dropout\n",
        "        self.lstm = nn.LSTM(input_size, hidden_size, batch_first=True, dropout=dropout_prob)\n",
        "\n",
        "        # Define a fully connected layer for output\n",
        "        self.fc = nn.Linear(hidden_size, output_size)\n",
        "\n",
        "    def forward(self, x):\n",
        "        # Initializing hidden state and cell state\n",
        "        h0 = torch.zeros(1, x.size(0), self.hidden_size).to(x.device)  # Initial hidden state\n",
        "        c0 = torch.zeros(1, x.size(0), self.hidden_size).to(x.device)  # Initial cell state\n",
        "\n",
        "        # LSTM forward pass\n",
        "        out, (hn, cn) = self.lstm(x, (h0, c0))\n",
        "\n",
        "        # Pass the output of the last timestep to the fully connected layer\n",
        "        out = self.fc(out[:, -1, :])  # Using the output from the last time step for prediction\n",
        "        return out"
      ],
      "metadata": {
        "id": "6pAAQqlmgs6F"
      },
      "execution_count": 86,
      "outputs": []
    },
    {
      "cell_type": "code",
      "source": [
        "# Load and preprocess the data from the Excel file\n",
        "def load_data_from_excel(file_path):\n",
        "    # Load the data\n",
        "    data = pd.read_excel(file_path)\n",
        "\n",
        "    # Show the first few rows to inspect data\n",
        "    print(\"First few rows of the data:\")\n",
        "    print(data.head())\n",
        "\n",
        "    # Check for NaN values in each column\n",
        "    print(\"NaN values per column:\")\n",
        "    print(data.isna().sum())\n",
        "\n",
        "    # Convert all columns to numeric, forcing errors to NaN (optional: handle NaNs after this)\n",
        "    data = data.apply(pd.to_numeric, errors='coerce')\n",
        "\n",
        "    # Check the shape after converting to numeric\n",
        "    print(\"Data shape after converting to numeric:\", data.shape)\n",
        "\n",
        "    # Fill NaN values with a specific value (e.g., zero or column mean) instead of dropping rows\n",
        "    data = data.fillna(0)  # Example: fill NaN with 0\n",
        "\n",
        "    # Check the shape after filling NaNs\n",
        "    print(\"Data shape after filling NaNs:\", data.shape)\n",
        "\n",
        "    # Convert to numpy array\n",
        "    data_array = data.to_numpy()\n",
        "\n",
        "    # Ensure data tensor has the shape [batch_size, sequence_length, input_size]\n",
        "    return torch.tensor(data_array, dtype=torch.float32).unsqueeze(0)  # Adding batch dimension"
      ],
      "metadata": {
        "id": "o8eLB-1Hgxa1"
      },
      "execution_count": 87,
      "outputs": []
    },
    {
      "cell_type": "code",
      "source": [
        "# Load data from the Excel file\n",
        "file_path = '/content/b12.xlsx'  # Update with the correct file path\n",
        "data_tensor = load_data_from_excel(file_path)\n",
        "\n",
        "# Print the shape of the data tensor\n",
        "print(f\"Data tensor shape before passing to the model: {data_tensor.shape}\")\n",
        "\n",
        "\n",
        "# Example target output (simulated for this task, adjust as per actual needs)\n",
        "# Assuming the target has the same number of rows as data_array and 3 output variables\n",
        "target = torch.tensor([[1.0, 0.5, 0.2]] * data_tensor.shape[1], dtype=torch.float32)  # Adjust if needed"
      ],
      "metadata": {
        "colab": {
          "base_uri": "https://localhost:8080/"
        },
        "id": "5qKRCKgBgyGe",
        "outputId": "11483f45-ec86-40d2-b2ec-cfbc0490b661"
      },
      "execution_count": 88,
      "outputs": [
        {
          "output_type": "stream",
          "name": "stdout",
          "text": [
            "First few rows of the data:\n",
            "  Technique  KeySize=32  KeySize=64  KeySize=128  KeySize=256\n",
            "0        RN    0.000000    0.000000    -0.000947    -0.000822\n",
            "1        EF    0.000000    0.000000    -0.003037    -0.000266\n",
            "2        CB    0.000000    0.000000     0.000000     0.000537\n",
            "3        DS    0.049518    0.047371     0.048726     0.048399\n",
            "NaN values per column:\n",
            "Technique      0\n",
            "KeySize=32     0\n",
            "KeySize=64     0\n",
            "KeySize=128    0\n",
            "KeySize=256    0\n",
            "dtype: int64\n",
            "Data shape after converting to numeric: (4, 5)\n",
            "Data shape after filling NaNs: (4, 5)\n",
            "Data tensor shape before passing to the model: torch.Size([1, 4, 5])\n"
          ]
        }
      ]
    },
    {
      "cell_type": "code",
      "source": [
        "# Hyperparameters\n",
        "input_size = data_tensor.shape[2]  # Number of features per time step\n",
        "hidden_size = 64  # Reduce hidden size to reduce model complexity\n",
        "output_size = 3  # Number of outputs (you can adjust this)\n",
        "num_epochs = 50  # Reduce number of epochs\n",
        "learning_rate = 0.001  # Learning rate"
      ],
      "metadata": {
        "id": "ijWFBwfHg2OA"
      },
      "execution_count": 89,
      "outputs": []
    },
    {
      "cell_type": "code",
      "source": [
        "# Initialize the model with dropout regularization\n",
        "model = LSTMModel(input_size, hidden_size, output_size, dropout_prob=0.3)\n",
        "\n",
        "# Loss and optimizer\n",
        "criterion = nn.MSELoss()  # Assuming regression task\n",
        "optimizer = optim.Adam(model.parameters(), lr=learning_rate, weight_decay=1e-5)  # Adding weight decay\n",
        "\n",
        "# Training loop\n",
        "for epoch in range(num_epochs):\n",
        "    model.train()\n",
        "    outputs = model(data_tensor)  # Forward pass\n",
        "    loss = criterion(outputs, target)  # Compute loss\n",
        "\n",
        "    optimizer.zero_grad()  # Zero the gradients\n",
        "    loss.backward()  # Backpropagate\n",
        "    optimizer.step()  # Update weights\n",
        "\n",
        "    if (epoch + 1) % 10 == 0:\n",
        "        print(f'Epoch [{epoch+1}/{num_epochs}], Loss: {loss.item():.4f}')"
      ],
      "metadata": {
        "colab": {
          "base_uri": "https://localhost:8080/"
        },
        "id": "09GNTc63g4yI",
        "outputId": "e788407d-0330-4ca8-95a6-3b81a17643fa"
      },
      "execution_count": 90,
      "outputs": [
        {
          "output_type": "stream",
          "name": "stdout",
          "text": [
            "Epoch [10/50], Loss: 0.3439\n",
            "Epoch [20/50], Loss: 0.2457\n",
            "Epoch [30/50], Loss: 0.1292\n",
            "Epoch [40/50], Loss: 0.0207\n",
            "Epoch [50/50], Loss: 0.0100\n"
          ]
        },
        {
          "output_type": "stream",
          "name": "stderr",
          "text": [
            "/usr/local/lib/python3.11/dist-packages/torch/nn/modules/rnn.py:123: UserWarning: dropout option adds dropout after all but last recurrent layer, so non-zero dropout expects num_layers greater than 1, but got dropout=0.3 and num_layers=1\n",
            "  warnings.warn(\n",
            "/usr/local/lib/python3.11/dist-packages/torch/nn/modules/loss.py:610: UserWarning: Using a target size (torch.Size([4, 3])) that is different to the input size (torch.Size([1, 3])). This will likely lead to incorrect results due to broadcasting. Please ensure they have the same size.\n",
            "  return F.mse_loss(input, target, reduction=self.reduction)\n"
          ]
        }
      ]
    },
    {
      "cell_type": "code",
      "source": [
        "# Make predictions using the trained model\n",
        "model.eval()\n",
        "with torch.no_grad():\n",
        "    predicted_output = model(data_tensor)\n",
        "\n",
        "# Convert predicted and actual output to numpy for easier plotting\n",
        "predicted_output_np = predicted_output.numpy()\n",
        "target_np = target.numpy()\n",
        "\n",
        "# Plotting the actual vs predicted values\n",
        "plt.figure(figsize=(10, 6))\n",
        "\n",
        "# Plot the first target output vs predicted output\n",
        "plt.plot(target_np[:, 0], label='Actual Output 1', color='blue', linestyle='--', marker='o')\n",
        "plt.plot(predicted_output_np[:, 0], label='Predicted Output 1', color='red', linestyle='-', marker='x')\n",
        "\n",
        "# Plot the second target output vs predicted output\n",
        "plt.plot(target_np[:, 1], label='Actual Output 2', color='green', linestyle='--', marker='o')\n",
        "plt.plot(predicted_output_np[:, 1], label='Predicted Output 2', color='orange', linestyle='-', marker='x')\n",
        "\n",
        "# Plot the third target output vs predicted output\n",
        "plt.plot(target_np[:, 2], label='Actual Output 3', color='purple', linestyle='--', marker='o')\n",
        "plt.plot(predicted_output_np[:, 2], label='Predicted Output 3', color='yellow', linestyle='-', marker='x')\n",
        "\n",
        "# Add labels and legend\n",
        "plt.xlabel('Time Step')\n",
        "plt.ylabel('Output Value')\n",
        "plt.title('Actual vs Predicted Outputs')\n",
        "plt.legend()\n",
        "\n",
        "# Show the plot\n",
        "plt.show()"
      ],
      "metadata": {
        "colab": {
          "base_uri": "https://localhost:8080/",
          "height": 563
        },
        "id": "6Ubf00xCdc4K",
        "outputId": "942589c4-5b43-47ac-9fa8-63a161da9bf9"
      },
      "execution_count": 91,
      "outputs": [
        {
          "output_type": "display_data",
          "data": {
            "text/plain": [
              "<Figure size 1000x600 with 1 Axes>"
            ],
            "image/png": "[encoded data removed]"
          },
          "metadata": {}
        }
      ]
    }
  ]
}