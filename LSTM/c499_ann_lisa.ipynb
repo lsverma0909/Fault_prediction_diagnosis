{
  "nbformat": 4,
  "nbformat_minor": 0,
  "metadata": {
    "colab": {
      "provenance": []
    },
    "kernelspec": {
      "name": "python3",
      "display_name": "Python 3"
    },
    "language_info": {
      "name": "python"
    }
  },
  "cells": [
    {
      "cell_type": "code",
      "execution_count": 1,
      "metadata": {
        "id": "EUZZv4P7rjPR"
      },
      "outputs": [],
      "source": [
        "import torch\n",
        "import torch.nn as nn\n",
        "import torch.optim as optim\n",
        "import numpy as np\n",
        "import matplotlib.pyplot as plt"
      ]
    },
    {
      "cell_type": "code",
      "source": [
        "import itertools\n",
        "\n",
        "def expand_dont_care(pattern):\n",
        "    \"\"\"Expand a pattern like 'x10x0' to all possible combinations.\"\"\"\n",
        "    chars = [(c if c in '01' else ['0', '1']) for c in pattern]\n",
        "    chars = [(c if isinstance(c, list) else [c]) for c in chars]\n",
        "    return [''.join(bits) for bits in itertools.product(*chars)]\n",
        "\n",
        "def parse_test_file(filepath):\n",
        "    dataset = []\n",
        "    current_fault = None\n",
        "\n",
        "    with open(filepath, 'r') as f:\n",
        "        for line in f:\n",
        "            line = line.strip()\n",
        "            if not line or line.startswith(\"*\"):\n",
        "                continue\n",
        "\n",
        "            if '/' in line:\n",
        "                # It's a fault line: \"n23 /0\" or \"n11->n19 /1\"\n",
        "                parts = line.split(\"/\")\n",
        "                fault = parts[0].strip().replace(\"->\", \"_\") + \"/\" + parts[1].strip()\n",
        "                current_fault = fault\n",
        "            elif ':' in line:\n",
        "                # It's a test vector line\n",
        "                parts = line.split(\":\")[1].strip().split()\n",
        "                input_pattern = parts[0]\n",
        "                output_pattern = parts[1] if len(parts) > 1 else \"\"\n",
        "\n",
        "                expanded_inputs = expand_dont_care(input_pattern)\n",
        "                expanded_outputs = expand_dont_care(output_pattern)\n",
        "\n",
        "                for xi in expanded_inputs:\n",
        "                    for yo in expanded_outputs:\n",
        "                        dataset.append({\n",
        "                            \"input\": [int(bit) for bit in xi],\n",
        "                            \"output\": [int(bit) for bit in yo],\n",
        "                            \"fault\": current_fault\n",
        "                        })\n",
        "\n",
        "    return dataset"
      ],
      "metadata": {
        "id": "J6R0mVv9rkYL"
      },
      "execution_count": 2,
      "outputs": []
    },
    {
      "cell_type": "code",
      "source": [
        "data = parse_test_file(\"/content/c17.flt\")\n",
        "\n",
        "for item in data[:20]:\n",
        "    print(item)"
      ],
      "metadata": {
        "colab": {
          "base_uri": "https://localhost:8080/"
        },
        "id": "RXbppYrDrpKo",
        "outputId": "57f0f06d-646e-4a6d-b7bf-d3b550f511d9"
      },
      "execution_count": 3,
      "outputs": [
        {
          "output_type": "stream",
          "name": "stdout",
          "text": [
            "{'input': [0, 0, 0, 0, 0], 'output': [0, 0], 'fault': 'n7/1'}\n",
            "{'input': [0, 0, 0, 1, 0], 'output': [0, 0], 'fault': 'n7/1'}\n",
            "{'input': [1, 0, 0, 0, 0], 'output': [0, 0], 'fault': 'n7/1'}\n",
            "{'input': [1, 0, 0, 1, 0], 'output': [0, 0], 'fault': 'n7/1'}\n",
            "{'input': [0, 0, 1, 1, 1], 'output': [0, 0], 'fault': 'n11_n19/1'}\n",
            "{'input': [0, 0, 1, 1, 1], 'output': [1, 0], 'fault': 'n11_n19/1'}\n",
            "{'input': [0, 1, 1, 1, 1], 'output': [0, 0], 'fault': 'n11_n19/1'}\n",
            "{'input': [0, 1, 1, 1, 1], 'output': [1, 0], 'fault': 'n11_n19/1'}\n",
            "{'input': [1, 0, 1, 1, 1], 'output': [0, 0], 'fault': 'n11_n19/1'}\n",
            "{'input': [1, 0, 1, 1, 1], 'output': [1, 0], 'fault': 'n11_n19/1'}\n",
            "{'input': [1, 1, 1, 1, 1], 'output': [0, 0], 'fault': 'n11_n19/1'}\n",
            "{'input': [1, 1, 1, 1, 1], 'output': [1, 0], 'fault': 'n11_n19/1'}\n",
            "{'input': [0, 1, 0, 0, 0], 'output': [1, 1], 'fault': 'n16_n23/1'}\n",
            "{'input': [0, 1, 0, 1, 0], 'output': [1, 1], 'fault': 'n16_n23/1'}\n",
            "{'input': [1, 1, 0, 0, 0], 'output': [1, 1], 'fault': 'n16_n23/1'}\n",
            "{'input': [1, 1, 0, 1, 0], 'output': [1, 1], 'fault': 'n16_n23/1'}\n",
            "{'input': [0, 1, 1, 0, 0], 'output': [1, 1], 'fault': 'n16_n23/1'}\n",
            "{'input': [1, 1, 1, 0, 0], 'output': [1, 1], 'fault': 'n16_n23/1'}\n",
            "{'input': [0, 1, 0, 0, 0], 'output': [1, 1], 'fault': 'n23/0'}\n",
            "{'input': [0, 1, 0, 0, 1], 'output': [1, 1], 'fault': 'n23/0'}\n"
          ]
        }
      ]
    },
    {
      "cell_type": "code",
      "source": [
        "import numpy as np\n",
        "from sklearn.preprocessing import LabelEncoder\n",
        "from sklearn.model_selection import train_test_split\n",
        "from tensorflow.keras.utils import to_categorical\n",
        "\n",
        "# Separate inputs and labels\n",
        "X = np.array([sample['input'] for sample in data])\n",
        "y_labels = [sample['fault'] for sample in data]\n",
        "\n",
        "# Encode fault labels as integers\n",
        "label_encoder = LabelEncoder()\n",
        "y_int = label_encoder.fit_transform(y_labels)\n",
        "\n",
        "# One-hot encode labels for classification\n",
        "y = to_categorical(y_int)\n",
        "\n",
        "# Reshape for LSTM (samples, timesteps, features)\n",
        "X = X.reshape((X.shape[0], 1, X.shape[1]))\n",
        "\n",
        "# Train/test split\n",
        "X_train, X_test, y_train, y_test = train_test_split(X, y, test_size=0.2, random_state=42)\n",
        "\n",
        "X_train = X_train.reshape((X_train.shape[0], X_train.shape[2]))\n",
        "X_test = X_test.reshape((X_test.shape[0], X_test.shape[2]))\n",
        "\n",
        "print(X_train.shape)"
      ],
      "metadata": {
        "colab": {
          "base_uri": "https://localhost:8080/"
        },
        "id": "sPq36oTmrvnk",
        "outputId": "71ccdeb8-2e05-4bad-b2c0-7c28c556cc44"
      },
      "execution_count": 13,
      "outputs": [
        {
          "output_type": "stream",
          "name": "stdout",
          "text": [
            "(240, 5)\n"
          ]
        }
      ]
    },
    {
      "cell_type": "code",
      "source": [
        "from tensorflow.keras.models import Sequential\n",
        "from tensorflow.keras.layers import Dense, Dropout, Input\n",
        "from tensorflow.keras.callbacks import EarlyStopping, ReduceLROnPlateau\n",
        "\n",
        "# Define the model\n",
        "model = Sequential()\n",
        "model.add(Input(shape=(X_train.shape[1],)))\n",
        "model.add(Dense(128, activation='relu'))\n",
        "model.add(Dropout(0.3))\n",
        "model.add(Dense(64, activation='relu'))\n",
        "model.add(Dense(y.shape[1], activation='softmax'))\n",
        "\n",
        "# Compile\n",
        "model.compile(loss='categorical_crossentropy', optimizer='adam', metrics=['accuracy'])\n",
        "\n",
        "# Callbacks\n",
        "early_stop = EarlyStopping(patience=10, restore_best_weights=True)\n",
        "lr_scheduler = ReduceLROnPlateau(monitor='val_loss', factor=0.5, patience=5)\n",
        "\n",
        "# Train\n",
        "model.fit(\n",
        "    X_train, y_train,\n",
        "    validation_split=0.5,\n",
        "    epochs=50,\n",
        "    batch_size=32,\n",
        "    callbacks=[early_stop, lr_scheduler]\n",
        ")"
      ],
      "metadata": {
        "colab": {
          "base_uri": "https://localhost:8080/"
        },
        "id": "J_gjYS-8rzz0",
        "outputId": "502a7605-fcf2-4b01-e727-27f02dcbc96a"
      },
      "execution_count": 23,
      "outputs": [
        {
          "output_type": "stream",
          "name": "stdout",
          "text": [
            "Epoch 1/50\n",
            "\u001b[1m4/4\u001b[0m \u001b[32m━━━━━━━━━━━━━━━━━━━━\u001b[0m\u001b[37m\u001b[0m \u001b[1m4s\u001b[0m 95ms/step - accuracy: 0.0469 - loss: 3.1127 - val_accuracy: 0.0167 - val_loss: 3.0964 - learning_rate: 0.0010\n",
            "Epoch 2/50\n",
            "\u001b[1m4/4\u001b[0m \u001b[32m━━━━━━━━━━━━━━━━━━━━\u001b[0m\u001b[37m\u001b[0m \u001b[1m0s\u001b[0m 25ms/step - accuracy: 0.0765 - loss: 3.0517 - val_accuracy: 0.0250 - val_loss: 3.0791 - learning_rate: 0.0010\n",
            "Epoch 3/50\n",
            "\u001b[1m4/4\u001b[0m \u001b[32m━━━━━━━━━━━━━━━━━━━━\u001b[0m\u001b[37m\u001b[0m \u001b[1m0s\u001b[0m 26ms/step - accuracy: 0.1015 - loss: 3.0367 - val_accuracy: 0.0417 - val_loss: 3.0617 - learning_rate: 0.0010\n",
            "Epoch 4/50\n",
            "\u001b[1m4/4\u001b[0m \u001b[32m━━━━━━━━━━━━━━━━━━━━\u001b[0m\u001b[37m\u001b[0m \u001b[1m0s\u001b[0m 26ms/step - accuracy: 0.0958 - loss: 2.9779 - val_accuracy: 0.0500 - val_loss: 3.0456 - learning_rate: 0.0010\n",
            "Epoch 5/50\n",
            "\u001b[1m4/4\u001b[0m \u001b[32m━━━━━━━━━━━━━━━━━━━━\u001b[0m\u001b[37m\u001b[0m \u001b[1m0s\u001b[0m 26ms/step - accuracy: 0.1244 - loss: 2.9677 - val_accuracy: 0.0583 - val_loss: 3.0286 - learning_rate: 0.0010\n",
            "Epoch 6/50\n",
            "\u001b[1m4/4\u001b[0m \u001b[32m━━━━━━━━━━━━━━━━━━━━\u001b[0m\u001b[37m\u001b[0m \u001b[1m0s\u001b[0m 25ms/step - accuracy: 0.1400 - loss: 2.9071 - val_accuracy: 0.0417 - val_loss: 3.0120 - learning_rate: 0.0010\n",
            "Epoch 7/50\n",
            "\u001b[1m4/4\u001b[0m \u001b[32m━━━━━━━━━━━━━━━━━━━━\u001b[0m\u001b[37m\u001b[0m \u001b[1m0s\u001b[0m 28ms/step - accuracy: 0.1875 - loss: 2.8495 - val_accuracy: 0.0500 - val_loss: 2.9953 - learning_rate: 0.0010\n",
            "Epoch 8/50\n",
            "\u001b[1m4/4\u001b[0m \u001b[32m━━━━━━━━━━━━━━━━━━━━\u001b[0m\u001b[37m\u001b[0m \u001b[1m0s\u001b[0m 25ms/step - accuracy: 0.1598 - loss: 2.8266 - val_accuracy: 0.0500 - val_loss: 2.9807 - learning_rate: 0.0010\n",
            "Epoch 9/50\n",
            "\u001b[1m4/4\u001b[0m \u001b[32m━━━━━━━━━━━━━━━━━━━━\u001b[0m\u001b[37m\u001b[0m \u001b[1m0s\u001b[0m 25ms/step - accuracy: 0.1748 - loss: 2.7745 - val_accuracy: 0.0583 - val_loss: 2.9671 - learning_rate: 0.0010\n",
            "Epoch 10/50\n",
            "\u001b[1m4/4\u001b[0m \u001b[32m━━━━━━━━━━━━━━━━━━━━\u001b[0m\u001b[37m\u001b[0m \u001b[1m0s\u001b[0m 26ms/step - accuracy: 0.1283 - loss: 2.7411 - val_accuracy: 0.0583 - val_loss: 2.9549 - learning_rate: 0.0010\n",
            "Epoch 11/50\n",
            "\u001b[1m4/4\u001b[0m \u001b[32m━━━━━━━━━━━━━━━━━━━━\u001b[0m\u001b[37m\u001b[0m \u001b[1m0s\u001b[0m 27ms/step - accuracy: 0.1794 - loss: 2.7177 - val_accuracy: 0.0750 - val_loss: 2.9450 - learning_rate: 0.0010\n",
            "Epoch 12/50\n",
            "\u001b[1m4/4\u001b[0m \u001b[32m━━━━━━━━━━━━━━━━━━━━\u001b[0m\u001b[37m\u001b[0m \u001b[1m0s\u001b[0m 27ms/step - accuracy: 0.2333 - loss: 2.6536 - val_accuracy: 0.0750 - val_loss: 2.9375 - learning_rate: 0.0010\n",
            "Epoch 13/50\n",
            "\u001b[1m4/4\u001b[0m \u001b[32m━━━━━━━━━━━━━━━━━━━━\u001b[0m\u001b[37m\u001b[0m \u001b[1m0s\u001b[0m 27ms/step - accuracy: 0.2071 - loss: 2.6860 - val_accuracy: 0.0833 - val_loss: 2.9318 - learning_rate: 0.0010\n",
            "Epoch 14/50\n",
            "\u001b[1m4/4\u001b[0m \u001b[32m━━━━━━━━━━━━━━━━━━━━\u001b[0m\u001b[37m\u001b[0m \u001b[1m0s\u001b[0m 26ms/step - accuracy: 0.1919 - loss: 2.6253 - val_accuracy: 0.0917 - val_loss: 2.9250 - learning_rate: 0.0010\n",
            "Epoch 15/50\n",
            "\u001b[1m4/4\u001b[0m \u001b[32m━━━━━━━━━━━━━━━━━━━━\u001b[0m\u001b[37m\u001b[0m \u001b[1m0s\u001b[0m 26ms/step - accuracy: 0.1298 - loss: 2.6310 - val_accuracy: 0.1000 - val_loss: 2.9175 - learning_rate: 0.0010\n",
            "Epoch 16/50\n",
            "\u001b[1m4/4\u001b[0m \u001b[32m━━━━━━━━━━━━━━━━━━━━\u001b[0m\u001b[37m\u001b[0m \u001b[1m0s\u001b[0m 26ms/step - accuracy: 0.1842 - loss: 2.5901 - val_accuracy: 0.1083 - val_loss: 2.9078 - learning_rate: 0.0010\n",
            "Epoch 17/50\n",
            "\u001b[1m4/4\u001b[0m \u001b[32m━━━━━━━━━━━━━━━━━━━━\u001b[0m\u001b[37m\u001b[0m \u001b[1m0s\u001b[0m 26ms/step - accuracy: 0.2923 - loss: 2.5246 - val_accuracy: 0.1083 - val_loss: 2.8987 - learning_rate: 0.0010\n",
            "Epoch 18/50\n",
            "\u001b[1m4/4\u001b[0m \u001b[32m━━━━━━━━━━━━━━━━━━━━\u001b[0m\u001b[37m\u001b[0m \u001b[1m0s\u001b[0m 26ms/step - accuracy: 0.2304 - loss: 2.5470 - val_accuracy: 0.1250 - val_loss: 2.8899 - learning_rate: 0.0010\n",
            "Epoch 19/50\n",
            "\u001b[1m4/4\u001b[0m \u001b[32m━━━━━━━━━━━━━━━━━━━━\u001b[0m\u001b[37m\u001b[0m \u001b[1m0s\u001b[0m 28ms/step - accuracy: 0.2013 - loss: 2.4839 - val_accuracy: 0.1000 - val_loss: 2.8818 - learning_rate: 0.0010\n",
            "Epoch 20/50\n",
            "\u001b[1m4/4\u001b[0m \u001b[32m━━━━━━━━━━━━━━━━━━━━\u001b[0m\u001b[37m\u001b[0m \u001b[1m0s\u001b[0m 26ms/step - accuracy: 0.2329 - loss: 2.4408 - val_accuracy: 0.1000 - val_loss: 2.8737 - learning_rate: 0.0010\n",
            "Epoch 21/50\n",
            "\u001b[1m4/4\u001b[0m \u001b[32m━━━━━━━━━━━━━━━━━━━━\u001b[0m\u001b[37m\u001b[0m \u001b[1m0s\u001b[0m 26ms/step - accuracy: 0.2633 - loss: 2.4395 - val_accuracy: 0.1167 - val_loss: 2.8649 - learning_rate: 0.0010\n",
            "Epoch 22/50\n",
            "\u001b[1m4/4\u001b[0m \u001b[32m━━━━━━━━━━━━━━━━━━━━\u001b[0m\u001b[37m\u001b[0m \u001b[1m0s\u001b[0m 29ms/step - accuracy: 0.2515 - loss: 2.3751 - val_accuracy: 0.1250 - val_loss: 2.8563 - learning_rate: 0.0010\n",
            "Epoch 23/50\n",
            "\u001b[1m4/4\u001b[0m \u001b[32m━━━━━━━━━━━━━━━━━━━━\u001b[0m\u001b[37m\u001b[0m \u001b[1m0s\u001b[0m 27ms/step - accuracy: 0.2635 - loss: 2.3735 - val_accuracy: 0.1333 - val_loss: 2.8482 - learning_rate: 0.0010\n",
            "Epoch 24/50\n",
            "\u001b[1m4/4\u001b[0m \u001b[32m━━━━━━━━━━━━━━━━━━━━\u001b[0m\u001b[37m\u001b[0m \u001b[1m0s\u001b[0m 25ms/step - accuracy: 0.2456 - loss: 2.3830 - val_accuracy: 0.1167 - val_loss: 2.8412 - learning_rate: 0.0010\n",
            "Epoch 25/50\n",
            "\u001b[1m4/4\u001b[0m \u001b[32m━━━━━━━━━━━━━━━━━━━━\u001b[0m\u001b[37m\u001b[0m \u001b[1m0s\u001b[0m 26ms/step - accuracy: 0.2321 - loss: 2.3609 - val_accuracy: 0.1000 - val_loss: 2.8377 - learning_rate: 0.0010\n",
            "Epoch 26/50\n",
            "\u001b[1m4/4\u001b[0m \u001b[32m━━━━━━━━━━━━━━━━━━━━\u001b[0m\u001b[37m\u001b[0m \u001b[1m0s\u001b[0m 27ms/step - accuracy: 0.2321 - loss: 2.3180 - val_accuracy: 0.1083 - val_loss: 2.8280 - learning_rate: 0.0010\n",
            "Epoch 27/50\n",
            "\u001b[1m4/4\u001b[0m \u001b[32m━━━━━━━━━━━━━━━━━━━━\u001b[0m\u001b[37m\u001b[0m \u001b[1m0s\u001b[0m 26ms/step - accuracy: 0.2765 - loss: 2.3779 - val_accuracy: 0.1000 - val_loss: 2.8215 - learning_rate: 0.0010\n",
            "Epoch 28/50\n",
            "\u001b[1m4/4\u001b[0m \u001b[32m━━━━━━━━━━━━━━━━━━━━\u001b[0m\u001b[37m\u001b[0m \u001b[1m0s\u001b[0m 26ms/step - accuracy: 0.2708 - loss: 2.2229 - val_accuracy: 0.1167 - val_loss: 2.8179 - learning_rate: 0.0010\n",
            "Epoch 29/50\n",
            "\u001b[1m4/4\u001b[0m \u001b[32m━━━━━━━━━━━━━━━━━━━━\u001b[0m\u001b[37m\u001b[0m \u001b[1m0s\u001b[0m 26ms/step - accuracy: 0.2608 - loss: 2.3140 - val_accuracy: 0.0917 - val_loss: 2.8095 - learning_rate: 0.0010\n",
            "Epoch 30/50\n",
            "\u001b[1m4/4\u001b[0m \u001b[32m━━━━━━━━━━━━━━━━━━━━\u001b[0m\u001b[37m\u001b[0m \u001b[1m0s\u001b[0m 26ms/step - accuracy: 0.2367 - loss: 2.2539 - val_accuracy: 0.1000 - val_loss: 2.8018 - learning_rate: 0.0010\n",
            "Epoch 31/50\n",
            "\u001b[1m4/4\u001b[0m \u001b[32m━━━━━━━━━━━━━━━━━━━━\u001b[0m\u001b[37m\u001b[0m \u001b[1m0s\u001b[0m 37ms/step - accuracy: 0.2981 - loss: 2.1720 - val_accuracy: 0.1083 - val_loss: 2.8021 - learning_rate: 0.0010\n",
            "Epoch 32/50\n",
            "\u001b[1m4/4\u001b[0m \u001b[32m━━━━━━━━━━━━━━━━━━━━\u001b[0m\u001b[37m\u001b[0m \u001b[1m0s\u001b[0m 26ms/step - accuracy: 0.3027 - loss: 2.1784 - val_accuracy: 0.0917 - val_loss: 2.7944 - learning_rate: 0.0010\n",
            "Epoch 33/50\n",
            "\u001b[1m4/4\u001b[0m \u001b[32m━━━━━━━━━━━━━━━━━━━━\u001b[0m\u001b[37m\u001b[0m \u001b[1m0s\u001b[0m 26ms/step - accuracy: 0.2200 - loss: 2.2475 - val_accuracy: 0.1083 - val_loss: 2.7889 - learning_rate: 0.0010\n",
            "Epoch 34/50\n",
            "\u001b[1m4/4\u001b[0m \u001b[32m━━━━━━━━━━━━━━━━━━━━\u001b[0m\u001b[37m\u001b[0m \u001b[1m0s\u001b[0m 27ms/step - accuracy: 0.2812 - loss: 2.2336 - val_accuracy: 0.0917 - val_loss: 2.7900 - learning_rate: 0.0010\n",
            "Epoch 35/50\n",
            "\u001b[1m4/4\u001b[0m \u001b[32m━━━━━━━━━━━━━━━━━━━━\u001b[0m\u001b[37m\u001b[0m \u001b[1m0s\u001b[0m 26ms/step - accuracy: 0.2921 - loss: 2.1360 - val_accuracy: 0.0833 - val_loss: 2.7859 - learning_rate: 0.0010\n",
            "Epoch 36/50\n",
            "\u001b[1m4/4\u001b[0m \u001b[32m━━━━━━━━━━━━━━━━━━━━\u001b[0m\u001b[37m\u001b[0m \u001b[1m0s\u001b[0m 26ms/step - accuracy: 0.3294 - loss: 2.0868 - val_accuracy: 0.1000 - val_loss: 2.7832 - learning_rate: 0.0010\n",
            "Epoch 37/50\n",
            "\u001b[1m4/4\u001b[0m \u001b[32m━━━━━━━━━━━━━━━━━━━━\u001b[0m\u001b[37m\u001b[0m \u001b[1m0s\u001b[0m 26ms/step - accuracy: 0.3063 - loss: 2.1270 - val_accuracy: 0.1250 - val_loss: 2.7778 - learning_rate: 0.0010\n",
            "Epoch 38/50\n",
            "\u001b[1m4/4\u001b[0m \u001b[32m━━━━━━━━━━━━━━━━━━━━\u001b[0m\u001b[37m\u001b[0m \u001b[1m0s\u001b[0m 26ms/step - accuracy: 0.2804 - loss: 2.0559 - val_accuracy: 0.1000 - val_loss: 2.7717 - learning_rate: 0.0010\n",
            "Epoch 39/50\n",
            "\u001b[1m4/4\u001b[0m \u001b[32m━━━━━━━━━━━━━━━━━━━━\u001b[0m\u001b[37m\u001b[0m \u001b[1m0s\u001b[0m 30ms/step - accuracy: 0.3381 - loss: 2.0368 - val_accuracy: 0.1000 - val_loss: 2.7647 - learning_rate: 0.0010\n",
            "Epoch 40/50\n",
            "\u001b[1m4/4\u001b[0m \u001b[32m━━━━━━━━━━━━━━━━━━━━\u001b[0m\u001b[37m\u001b[0m \u001b[1m0s\u001b[0m 27ms/step - accuracy: 0.2942 - loss: 2.0714 - val_accuracy: 0.1000 - val_loss: 2.7624 - learning_rate: 0.0010\n",
            "Epoch 41/50\n",
            "\u001b[1m4/4\u001b[0m \u001b[32m━━━━━━━━━━━━━━━━━━━━\u001b[0m\u001b[37m\u001b[0m \u001b[1m0s\u001b[0m 26ms/step - accuracy: 0.3237 - loss: 2.0242 - val_accuracy: 0.1000 - val_loss: 2.7568 - learning_rate: 0.0010\n",
            "Epoch 42/50\n",
            "\u001b[1m4/4\u001b[0m \u001b[32m━━━━━━━━━━━━━━━━━━━━\u001b[0m\u001b[37m\u001b[0m \u001b[1m0s\u001b[0m 26ms/step - accuracy: 0.3227 - loss: 1.9976 - val_accuracy: 0.1000 - val_loss: 2.7554 - learning_rate: 0.0010\n",
            "Epoch 43/50\n",
            "\u001b[1m4/4\u001b[0m \u001b[32m━━━━━━━━━━━━━━━━━━━━\u001b[0m\u001b[37m\u001b[0m \u001b[1m0s\u001b[0m 27ms/step - accuracy: 0.3277 - loss: 2.0348 - val_accuracy: 0.0917 - val_loss: 2.7522 - learning_rate: 0.0010\n",
            "Epoch 44/50\n",
            "\u001b[1m4/4\u001b[0m \u001b[32m━━━━━━━━━━━━━━━━━━━━\u001b[0m\u001b[37m\u001b[0m \u001b[1m0s\u001b[0m 26ms/step - accuracy: 0.3029 - loss: 1.9803 - val_accuracy: 0.0917 - val_loss: 2.7496 - learning_rate: 0.0010\n",
            "Epoch 45/50\n",
            "\u001b[1m4/4\u001b[0m \u001b[32m━━━━━━━━━━━━━━━━━━━━\u001b[0m\u001b[37m\u001b[0m \u001b[1m0s\u001b[0m 28ms/step - accuracy: 0.2667 - loss: 1.9871 - val_accuracy: 0.1000 - val_loss: 2.7489 - learning_rate: 0.0010\n",
            "Epoch 46/50\n",
            "\u001b[1m4/4\u001b[0m \u001b[32m━━━━━━━━━━━━━━━━━━━━\u001b[0m\u001b[37m\u001b[0m \u001b[1m0s\u001b[0m 27ms/step - accuracy: 0.3835 - loss: 1.9877 - val_accuracy: 0.0917 - val_loss: 2.7470 - learning_rate: 0.0010\n",
            "Epoch 47/50\n",
            "\u001b[1m4/4\u001b[0m \u001b[32m━━━━━━━━━━━━━━━━━━━━\u001b[0m\u001b[37m\u001b[0m \u001b[1m0s\u001b[0m 27ms/step - accuracy: 0.2910 - loss: 1.9807 - val_accuracy: 0.0917 - val_loss: 2.7429 - learning_rate: 0.0010\n",
            "Epoch 48/50\n",
            "\u001b[1m4/4\u001b[0m \u001b[32m━━━━━━━━━━━━━━━━━━━━\u001b[0m\u001b[37m\u001b[0m \u001b[1m0s\u001b[0m 27ms/step - accuracy: 0.3273 - loss: 1.9203 - val_accuracy: 0.0833 - val_loss: 2.7420 - learning_rate: 0.0010\n",
            "Epoch 49/50\n",
            "\u001b[1m4/4\u001b[0m \u001b[32m━━━━━━━━━━━━━━━━━━━━\u001b[0m\u001b[37m\u001b[0m \u001b[1m0s\u001b[0m 26ms/step - accuracy: 0.3473 - loss: 1.9128 - val_accuracy: 0.0917 - val_loss: 2.7429 - learning_rate: 0.0010\n",
            "Epoch 50/50\n",
            "\u001b[1m4/4\u001b[0m \u001b[32m━━━━━━━━━━━━━━━━━━━━\u001b[0m\u001b[37m\u001b[0m \u001b[1m0s\u001b[0m 27ms/step - accuracy: 0.2906 - loss: 1.9308 - val_accuracy: 0.0750 - val_loss: 2.7370 - learning_rate: 0.0010\n"
          ]
        },
        {
          "output_type": "execute_result",
          "data": {
            "text/plain": [
              "<keras.src.callbacks.history.History at 0x7af0a44d4f10>"
            ]
          },
          "metadata": {},
          "execution_count": 23
        }
      ]
    },
    {
      "cell_type": "code",
      "source": [
        "loss, acc = model.evaluate(X_test, y_test)\n",
        "print(f\"✅ Test accuracy: {acc:.2%}\")\n"
      ],
      "metadata": {
        "colab": {
          "base_uri": "https://localhost:8080/"
        },
        "id": "beksnExZsaJE",
        "outputId": "b17099b7-0e80-4b38-9ac4-9f92b70d23eb"
      },
      "execution_count": 24,
      "outputs": [
        {
          "output_type": "stream",
          "name": "stdout",
          "text": [
            "\u001b[1m2/2\u001b[0m \u001b[32m━━━━━━━━━━━━━━━━━━━━\u001b[0m\u001b[37m\u001b[0m \u001b[1m0s\u001b[0m 34ms/step - accuracy: 0.1410 - loss: 2.6578\n",
            "✅ Test accuracy: 13.33%\n"
          ]
        }
      ]
    },
    {
      "cell_type": "code",
      "source": [
        "y_pred = model.predict(X_test)\n",
        "predicted_labels = label_encoder.inverse_transform(np.argmax(y_pred, axis=1))\n",
        "true_labels = label_encoder.inverse_transform(np.argmax(y_test, axis=1))\n",
        "\n",
        "# Print a few examples\n",
        "for i in range(20):\n",
        "    print(f\"Predicted: {predicted_labels[i]} | Actual: {true_labels[i]}\")"
      ],
      "metadata": {
        "colab": {
          "base_uri": "https://localhost:8080/"
        },
        "id": "SeC4xRZfsy9X",
        "outputId": "7bce7aee-2d54-416a-c304-63388e36c467"
      },
      "execution_count": 18,
      "outputs": [
        {
          "output_type": "stream",
          "name": "stdout",
          "text": [
            "\u001b[1m2/2\u001b[0m \u001b[32m━━━━━━━━━━━━━━━━━━━━\u001b[0m\u001b[37m\u001b[0m \u001b[1m0s\u001b[0m 57ms/step\n",
            "Predicted: n16/0 | Actual: n3/1\n",
            "Predicted: n22/0 | Actual: n10/1\n",
            "Predicted: n23/1 | Actual: n16/0\n",
            "Predicted: n16/0 | Actual: n11_n19/1\n",
            "Predicted: n11/0 | Actual: n16_n22/1\n",
            "Predicted: n16/0 | Actual: n3_n10/1\n",
            "Predicted: n3/1 | Actual: n3/1\n",
            "Predicted: n11/0 | Actual: n11/0\n",
            "Predicted: n16/0 | Actual: n11_n19/1\n",
            "Predicted: n16/1 | Actual: n16/1\n",
            "Predicted: n16/1 | Actual: n16_n22/1\n",
            "Predicted: n16/0 | Actual: n23/1\n",
            "Predicted: n16/0 | Actual: n1/1\n",
            "Predicted: n22/0 | Actual: n19/1\n",
            "Predicted: n3_n11/1 | Actual: n16/1\n",
            "Predicted: n3/1 | Actual: n3_n10/1\n",
            "Predicted: n16/0 | Actual: n22/1\n",
            "Predicted: n16/0 | Actual: n3/0\n",
            "Predicted: n22/1 | Actual: n16/0\n",
            "Predicted: n22/1 | Actual: n16/0\n"
          ]
        }
      ]
    },
    {
      "cell_type": "code",
      "source": [
        "import numpy as np\n",
        "\n",
        "# Get raw predictions\n",
        "y_pred = model.predict(X_test)\n",
        "predicted_labels = label_encoder.inverse_transform(np.argmax(y_pred, axis=1))\n",
        "true_labels = label_encoder.inverse_transform(np.argmax(y_test, axis=1))"
      ],
      "metadata": {
        "colab": {
          "base_uri": "https://localhost:8080/"
        },
        "id": "Q4XQNjR5s11_",
        "outputId": "0890354e-323b-4761-ff03-4d3a3ef48e43"
      },
      "execution_count": 19,
      "outputs": [
        {
          "output_type": "stream",
          "name": "stdout",
          "text": [
            "\u001b[1m2/2\u001b[0m \u001b[32m━━━━━━━━━━━━━━━━━━━━\u001b[0m\u001b[37m\u001b[0m \u001b[1m0s\u001b[0m 20ms/step\n"
          ]
        }
      ]
    },
    {
      "cell_type": "code",
      "source": [
        "from collections import defaultdict\n",
        "\n",
        "# Group results by SA0 and SA1\n",
        "fault_types = defaultdict(list)\n",
        "\n",
        "for pred, actual in zip(predicted_labels, true_labels):\n",
        "    if '/0' in actual:\n",
        "        fault_types['SA0'].append((actual, pred))\n",
        "    elif '/1' in actual:\n",
        "        fault_types['SA1'].append((actual, pred))"
      ],
      "metadata": {
        "id": "bUaFJHpvs4Ho"
      },
      "execution_count": 20,
      "outputs": []
    },
    {
      "cell_type": "code",
      "source": [
        "def calc_accuracy(fault_group):\n",
        "    correct = sum(1 for actual, pred in fault_group if actual == pred)\n",
        "    total = len(fault_group)\n",
        "    return (correct / total) if total > 0 else 0.0\n",
        "\n",
        "acc_sa0 = calc_accuracy(fault_types['SA0'])\n",
        "acc_sa1 = calc_accuracy(fault_types['SA1'])\n",
        "\n",
        "print(f\"✅ SA0 detection accuracy: {acc_sa0:.2%}\")\n",
        "print(f\"✅ SA1 detection accuracy: {acc_sa1:.2%}\")"
      ],
      "metadata": {
        "colab": {
          "base_uri": "https://localhost:8080/"
        },
        "id": "sZzD9oa6s6C0",
        "outputId": "0807e77e-61c3-4884-d979-7add018cf0e5"
      },
      "execution_count": 21,
      "outputs": [
        {
          "output_type": "stream",
          "name": "stdout",
          "text": [
            "✅ SA0 detection accuracy: 15.79%\n",
            "✅ SA1 detection accuracy: 17.07%\n"
          ]
        }
      ]
    },
    {
      "cell_type": "code",
      "source": [
        "from sklearn.metrics import confusion_matrix, ConfusionMatrixDisplay\n",
        "\n",
        "cm = confusion_matrix(true_labels, predicted_labels, labels=label_encoder.classes_)\n",
        "disp = ConfusionMatrixDisplay(confusion_matrix=cm, display_labels=label_encoder.classes_)\n",
        "disp.plot(xticks_rotation=90)\n"
      ],
      "metadata": {
        "colab": {
          "base_uri": "https://localhost:8080/",
          "height": 529
        },
        "id": "0DMZq0cus8d9",
        "outputId": "3fd753d9-4868-432b-b78e-fb78fbe33e9e"
      },
      "execution_count": 22,
      "outputs": [
        {
          "output_type": "execute_result",
          "data": {
            "text/plain": [
              "<sklearn.metrics._plot.confusion_matrix.ConfusionMatrixDisplay at 0x7af09c79fb10>"
            ]
          },
          "metadata": {},
          "execution_count": 22
        },
        {
          "output_type": "display_data",
          "data": {
            "text/plain": [
              "<Figure size 640x480 with 2 Axes>"
            ],
            "image/png": "[encoded data removed]"
          },
          "metadata": {}
        }
      ]
    }
  ]
}